{
 "cells": [
  {
   "cell_type": "markdown",
   "id": "fb361577",
   "metadata": {},
   "source": [
    "### загрузка данных"
   ]
  },
  {
   "cell_type": "code",
   "execution_count": 28,
   "id": "c072496e",
   "metadata": {},
   "outputs": [],
   "source": [
    "# pip install xlrd     # for reading excel files\n",
    "# pip install openpyxl # for reading excel files"
   ]
  },
  {
   "cell_type": "code",
   "execution_count": 3,
   "id": "208ea053",
   "metadata": {},
   "outputs": [],
   "source": [
    "import pandas as pd"
   ]
  },
  {
   "cell_type": "code",
   "execution_count": 4,
   "id": "4b488de7",
   "metadata": {},
   "outputs": [],
   "source": [
    "subtitles = pd.read_csv('subtitles.txt')\n",
    "english_level_subtitles = pd.read_csv('english_level_subtitles.txt')\n",
    "subtitles_all_A2 = pd.read_csv('subtitles_all_A2.txt')\n",
    "subtitles_all_B1 = pd.read_csv('subtitles_all_B1.txt')\n",
    "subtitles_all_B2 = pd.read_csv('subtitles_all_B2.txt')\n",
    "subtitles_all_C1 = pd.read_csv('subtitles_all_C1.txt')\n",
    "movies_labels = pd.read_excel('English_level/English_scores/movies_labels.xlsx').drop('id',axis=1)"
   ]
  },
  {
   "cell_type": "code",
   "execution_count": 5,
   "id": "1598b887",
   "metadata": {},
   "outputs": [],
   "source": [
    "subtitles['subtitles']=1\n",
    "english_level_subtitles['el_subtitles']=1\n",
    "subtitles_all_A2['subtitles_all']='A2'\n",
    "subtitles_all_B1['subtitles_all']='B1'\n",
    "subtitles_all_B2['subtitles_all']='B2'\n",
    "subtitles_all_C1['subtitles_all']='C1'\n",
    "subtitles_all = pd.concat((subtitles_all_A2,subtitles_all_B1,subtitles_all_B2,subtitles_all_C1))"
   ]
  },
  {
   "cell_type": "code",
   "execution_count": 6,
   "id": "4758dfa9",
   "metadata": {},
   "outputs": [],
   "source": [
    "# удаляем расширение .str в трёх датасетах\n",
    "for df in (subtitles,english_level_subtitles,subtitles_all):\n",
    "    df['Movie']=df['Movie'].apply(lambda x: x[:-4])"
   ]
  },
  {
   "cell_type": "code",
   "execution_count": 7,
   "id": "445ea047",
   "metadata": {},
   "outputs": [
    {
     "name": "stdout",
     "output_type": "stream",
     "text": [
      "0\n",
      "0\n",
      "2\n",
      "0\n"
     ]
    }
   ],
   "source": [
    "# число полных дубликатов во всех четырёх датасетах\n",
    "for df in (subtitles, \n",
    "           english_level_subtitles, \n",
    "           movies_labels, \n",
    "           subtitles_all):\n",
    "    print(df.duplicated().sum())"
   ]
  },
  {
   "cell_type": "code",
   "execution_count": 8,
   "id": "f81970b7",
   "metadata": {},
   "outputs": [
    {
     "data": {
      "text/html": [
       "<div>\n",
       "<style scoped>\n",
       "    .dataframe tbody tr th:only-of-type {\n",
       "        vertical-align: middle;\n",
       "    }\n",
       "\n",
       "    .dataframe tbody tr th {\n",
       "        vertical-align: top;\n",
       "    }\n",
       "\n",
       "    .dataframe thead th {\n",
       "        text-align: right;\n",
       "    }\n",
       "</style>\n",
       "<table border=\"1\" class=\"dataframe\">\n",
       "  <thead>\n",
       "    <tr style=\"text-align: right;\">\n",
       "      <th></th>\n",
       "      <th>Movie</th>\n",
       "      <th>Level</th>\n",
       "    </tr>\n",
       "  </thead>\n",
       "  <tbody>\n",
       "    <tr>\n",
       "      <th>38</th>\n",
       "      <td>Powder(1995)</td>\n",
       "      <td>B1</td>\n",
       "    </tr>\n",
       "    <tr>\n",
       "      <th>43</th>\n",
       "      <td>Inside_out(2015)</td>\n",
       "      <td>B1</td>\n",
       "    </tr>\n",
       "    <tr>\n",
       "      <th>44</th>\n",
       "      <td>Inside_out(2015)</td>\n",
       "      <td>B1</td>\n",
       "    </tr>\n",
       "    <tr>\n",
       "      <th>68</th>\n",
       "      <td>Powder(1995)</td>\n",
       "      <td>B1</td>\n",
       "    </tr>\n",
       "  </tbody>\n",
       "</table>\n",
       "</div>"
      ],
      "text/plain": [
       "               Movie Level\n",
       "38      Powder(1995)    B1\n",
       "43  Inside_out(2015)    B1\n",
       "44  Inside_out(2015)    B1\n",
       "68      Powder(1995)    B1"
      ]
     },
     "execution_count": 8,
     "metadata": {},
     "output_type": "execute_result"
    }
   ],
   "source": [
    "# задублированные фильмы 'movies_labels' \n",
    "movies_labels[movies_labels.duplicated(keep=False)]"
   ]
  },
  {
   "cell_type": "code",
   "execution_count": 9,
   "id": "a2b472f3",
   "metadata": {},
   "outputs": [],
   "source": [
    "# удаление полных дубликатов \n",
    "movies_labels = movies_labels.drop_duplicates()"
   ]
  },
  {
   "cell_type": "code",
   "execution_count": 10,
   "id": "aa060063",
   "metadata": {},
   "outputs": [
    {
     "name": "stdout",
     "output_type": "stream",
     "text": [
      "0\n",
      "0\n",
      "2\n",
      "0\n"
     ]
    }
   ],
   "source": [
    "# число дубликатов по признаку Movie в четырёх датасетах\n",
    "for df in (subtitles, \n",
    "           english_level_subtitles, \n",
    "           movies_labels, \n",
    "           subtitles_all):\n",
    "    print(df['Movie'].duplicated().sum())"
   ]
  },
  {
   "cell_type": "code",
   "execution_count": 11,
   "id": "c4b63f53",
   "metadata": {},
   "outputs": [
    {
     "data": {
      "text/html": [
       "<div>\n",
       "<style scoped>\n",
       "    .dataframe tbody tr th:only-of-type {\n",
       "        vertical-align: middle;\n",
       "    }\n",
       "\n",
       "    .dataframe tbody tr th {\n",
       "        vertical-align: top;\n",
       "    }\n",
       "\n",
       "    .dataframe thead th {\n",
       "        text-align: right;\n",
       "    }\n",
       "</style>\n",
       "<table border=\"1\" class=\"dataframe\">\n",
       "  <thead>\n",
       "    <tr style=\"text-align: right;\">\n",
       "      <th></th>\n",
       "      <th>Movie</th>\n",
       "      <th>Level</th>\n",
       "    </tr>\n",
       "  </thead>\n",
       "  <tbody>\n",
       "    <tr>\n",
       "      <th>75</th>\n",
       "      <td>The_blind_side(2009)</td>\n",
       "      <td>B2</td>\n",
       "    </tr>\n",
       "    <tr>\n",
       "      <th>83</th>\n",
       "      <td>The_terminal(2004)</td>\n",
       "      <td>B1</td>\n",
       "    </tr>\n",
       "    <tr>\n",
       "      <th>84</th>\n",
       "      <td>The_blind_side(2009)</td>\n",
       "      <td>B1</td>\n",
       "    </tr>\n",
       "    <tr>\n",
       "      <th>99</th>\n",
       "      <td>The_terminal(2004)</td>\n",
       "      <td>A2/A2+, B1</td>\n",
       "    </tr>\n",
       "  </tbody>\n",
       "</table>\n",
       "</div>"
      ],
      "text/plain": [
       "                   Movie       Level\n",
       "75  The_blind_side(2009)          B2\n",
       "83    The_terminal(2004)          B1\n",
       "84  The_blind_side(2009)          B1\n",
       "99    The_terminal(2004)  A2/A2+, B1"
      ]
     },
     "execution_count": 11,
     "metadata": {},
     "output_type": "execute_result"
    }
   ],
   "source": [
    "# задублированные фильмы 'movies_labels' \n",
    "movies_labels[movies_labels['Movie'].duplicated(keep=False)]"
   ]
  },
  {
   "cell_type": "markdown",
   "id": "902dafe5",
   "metadata": {},
   "source": [
    "Объединим значения уровня у одинаковых фильмов. Лишнюю строку удалим."
   ]
  },
  {
   "cell_type": "code",
   "execution_count": 12,
   "id": "f4041d8d",
   "metadata": {},
   "outputs": [],
   "source": [
    "movies_labels.loc[75,'Level'] = 'B1,B2'\n",
    "movies_labels.drop([83,84], inplace=True)"
   ]
  },
  {
   "cell_type": "code",
   "execution_count": 13,
   "id": "d462c5b9",
   "metadata": {},
   "outputs": [],
   "source": [
    "# названия фильмов делаем индексами во всех датасетах\n",
    "for df in (subtitles, \n",
    "           english_level_subtitles, \n",
    "           subtitles_all,\n",
    "           movies_labels):\n",
    "    df.set_index('Movie', inplace=True)"
   ]
  },
  {
   "cell_type": "code",
   "execution_count": 14,
   "id": "94be2090",
   "metadata": {},
   "outputs": [],
   "source": [
    "movies_labels.columns=['movies_labels']"
   ]
  },
  {
   "cell_type": "code",
   "execution_count": 15,
   "id": "7ad92a96",
   "metadata": {},
   "outputs": [],
   "source": [
    "# сводная со всеми упомянутыми в проекте фильмами\n",
    "subtitles_pivot = subtitles.join(english_level_subtitles, how='outer')\\\n",
    "                           .join(subtitles_all,           how='outer')\\\n",
    "                           .join(movies_labels,           how='outer')"
   ]
  },
  {
   "cell_type": "code",
   "execution_count": 16,
   "id": "f8c5fa7e",
   "metadata": {},
   "outputs": [
    {
     "data": {
      "text/html": [
       "<div>\n",
       "<style scoped>\n",
       "    .dataframe tbody tr th:only-of-type {\n",
       "        vertical-align: middle;\n",
       "    }\n",
       "\n",
       "    .dataframe tbody tr th {\n",
       "        vertical-align: top;\n",
       "    }\n",
       "\n",
       "    .dataframe thead th {\n",
       "        text-align: right;\n",
       "    }\n",
       "</style>\n",
       "<table border=\"1\" class=\"dataframe\">\n",
       "  <thead>\n",
       "    <tr style=\"text-align: right;\">\n",
       "      <th></th>\n",
       "      <th>subtitles</th>\n",
       "      <th>el_subtitles</th>\n",
       "      <th>subtitles_all</th>\n",
       "      <th>movies_labels</th>\n",
       "    </tr>\n",
       "    <tr>\n",
       "      <th>Movie</th>\n",
       "      <th></th>\n",
       "      <th></th>\n",
       "      <th></th>\n",
       "      <th></th>\n",
       "    </tr>\n",
       "  </thead>\n",
       "  <tbody>\n",
       "    <tr>\n",
       "      <th>10_Cloverfield_lane(2016)</th>\n",
       "      <td>1.0</td>\n",
       "      <td>1.0</td>\n",
       "      <td>NaN</td>\n",
       "      <td>B1</td>\n",
       "    </tr>\n",
       "    <tr>\n",
       "      <th>10_things_I_hate_about_you(1999)</th>\n",
       "      <td>1.0</td>\n",
       "      <td>1.0</td>\n",
       "      <td>NaN</td>\n",
       "      <td>B1</td>\n",
       "    </tr>\n",
       "    <tr>\n",
       "      <th>A_knights_tale(2001)</th>\n",
       "      <td>1.0</td>\n",
       "      <td>1.0</td>\n",
       "      <td>NaN</td>\n",
       "      <td>B2</td>\n",
       "    </tr>\n",
       "  </tbody>\n",
       "</table>\n",
       "</div>"
      ],
      "text/plain": [
       "                                  subtitles  el_subtitles subtitles_all  \\\n",
       "Movie                                                                     \n",
       "10_Cloverfield_lane(2016)               1.0           1.0           NaN   \n",
       "10_things_I_hate_about_you(1999)        1.0           1.0           NaN   \n",
       "A_knights_tale(2001)                    1.0           1.0           NaN   \n",
       "\n",
       "                                 movies_labels  \n",
       "Movie                                           \n",
       "10_Cloverfield_lane(2016)                   B1  \n",
       "10_things_I_hate_about_you(1999)            B1  \n",
       "A_knights_tale(2001)                        B2  "
      ]
     },
     "execution_count": 16,
     "metadata": {},
     "output_type": "execute_result"
    }
   ],
   "source": [
    "subtitles_pivot.head(3)"
   ]
  },
  {
   "cell_type": "code",
   "execution_count": 17,
   "id": "a16cc7c7",
   "metadata": {},
   "outputs": [
    {
     "data": {
      "text/plain": [
       "287"
      ]
     },
     "execution_count": 17,
     "metadata": {},
     "output_type": "execute_result"
    }
   ],
   "source": [
    "subtitles_pivot.shape[0]"
   ]
  },
  {
   "cell_type": "code",
   "execution_count": 18,
   "id": "13d31b30",
   "metadata": {},
   "outputs": [
    {
     "data": {
      "text/plain": [
       "subtitles         86\n",
       "el_subtitles     115\n",
       "subtitles_all    163\n",
       "movies_labels    237\n",
       "dtype: int64"
      ]
     },
     "execution_count": 18,
     "metadata": {},
     "output_type": "execute_result"
    }
   ],
   "source": [
    "subtitles_pivot.count() # проверка кол-ва фильмов в каждом датасете"
   ]
  },
  {
   "cell_type": "markdown",
   "id": "7b85f2e8",
   "metadata": {},
   "source": [
    "Всё соответсвует (с учётом четырёх убранных дубликатов)."
   ]
  },
  {
   "cell_type": "markdown",
   "id": "96fd550b",
   "metadata": {},
   "source": [
    "### анализ сводной таблицы"
   ]
  },
  {
   "cell_type": "code",
   "execution_count": 19,
   "id": "ef685336",
   "metadata": {},
   "outputs": [
    {
     "data": {
      "text/plain": [
       "31"
      ]
     },
     "execution_count": 19,
     "metadata": {},
     "output_type": "execute_result"
    }
   ],
   "source": [
    "# кол-во различных позиций в 'subtitles' и 'el_subtitles'\n",
    "subtitles_pivot.query('(subtitles.isna() & ~el_subtitles.isna()) | (~subtitles.isna() & el_subtitles.isna())').shape[0]"
   ]
  },
  {
   "cell_type": "code",
   "execution_count": 20,
   "id": "7459a595",
   "metadata": {
    "scrolled": false
   },
   "outputs": [
    {
     "data": {
      "text/html": [
       "<div>\n",
       "<style scoped>\n",
       "    .dataframe tbody tr th:only-of-type {\n",
       "        vertical-align: middle;\n",
       "    }\n",
       "\n",
       "    .dataframe tbody tr th {\n",
       "        vertical-align: top;\n",
       "    }\n",
       "\n",
       "    .dataframe thead th {\n",
       "        text-align: right;\n",
       "    }\n",
       "</style>\n",
       "<table border=\"1\" class=\"dataframe\">\n",
       "  <thead>\n",
       "    <tr style=\"text-align: right;\">\n",
       "      <th></th>\n",
       "      <th>subtitles</th>\n",
       "      <th>el_subtitles</th>\n",
       "      <th>subtitles_all</th>\n",
       "      <th>movies_labels</th>\n",
       "    </tr>\n",
       "    <tr>\n",
       "      <th>Movie</th>\n",
       "      <th></th>\n",
       "      <th></th>\n",
       "      <th></th>\n",
       "      <th></th>\n",
       "    </tr>\n",
       "  </thead>\n",
       "  <tbody>\n",
       "    <tr>\n",
       "      <th>Banking_On_Bitcoin(2016)</th>\n",
       "      <td>NaN</td>\n",
       "      <td>1.0</td>\n",
       "      <td>NaN</td>\n",
       "      <td>C1</td>\n",
       "    </tr>\n",
       "    <tr>\n",
       "      <th>Breaking_Bad_The_Movie(2017)</th>\n",
       "      <td>NaN</td>\n",
       "      <td>1.0</td>\n",
       "      <td>NaN</td>\n",
       "      <td>NaN</td>\n",
       "    </tr>\n",
       "    <tr>\n",
       "      <th>Bren▒.Brown.The.Call.to.Courage.2019.720.NF.720p.DDP.5.1.x264-CafeFlix</th>\n",
       "      <td>NaN</td>\n",
       "      <td>1.0</td>\n",
       "      <td>NaN</td>\n",
       "      <td>NaN</td>\n",
       "    </tr>\n",
       "    <tr>\n",
       "      <th>Bridget_Joness_Baby</th>\n",
       "      <td>NaN</td>\n",
       "      <td>1.0</td>\n",
       "      <td>NaN</td>\n",
       "      <td>C1</td>\n",
       "    </tr>\n",
       "    <tr>\n",
       "      <th>Cars(2006)</th>\n",
       "      <td>NaN</td>\n",
       "      <td>1.0</td>\n",
       "      <td>NaN</td>\n",
       "      <td>B1</td>\n",
       "    </tr>\n",
       "    <tr>\n",
       "      <th>Casper</th>\n",
       "      <td>NaN</td>\n",
       "      <td>1.0</td>\n",
       "      <td>NaN</td>\n",
       "      <td>NaN</td>\n",
       "    </tr>\n",
       "    <tr>\n",
       "      <th>Charlie_and_the_Chocolate_Factory</th>\n",
       "      <td>NaN</td>\n",
       "      <td>1.0</td>\n",
       "      <td>NaN</td>\n",
       "      <td>B1</td>\n",
       "    </tr>\n",
       "    <tr>\n",
       "      <th>Cinderella(1950)</th>\n",
       "      <td>NaN</td>\n",
       "      <td>1.0</td>\n",
       "      <td>NaN</td>\n",
       "      <td>B1</td>\n",
       "    </tr>\n",
       "    <tr>\n",
       "      <th>Despicable_Me(2010)</th>\n",
       "      <td>NaN</td>\n",
       "      <td>1.0</td>\n",
       "      <td>NaN</td>\n",
       "      <td>B2</td>\n",
       "    </tr>\n",
       "    <tr>\n",
       "      <th>Enola_Holmes(2020)</th>\n",
       "      <td>NaN</td>\n",
       "      <td>1.0</td>\n",
       "      <td>NaN</td>\n",
       "      <td>B2</td>\n",
       "    </tr>\n",
       "    <tr>\n",
       "      <th>Entrapment</th>\n",
       "      <td>NaN</td>\n",
       "      <td>1.0</td>\n",
       "      <td>NaN</td>\n",
       "      <td>B2</td>\n",
       "    </tr>\n",
       "    <tr>\n",
       "      <th>Ferdinand(2017)</th>\n",
       "      <td>NaN</td>\n",
       "      <td>1.0</td>\n",
       "      <td>NaN</td>\n",
       "      <td>B1</td>\n",
       "    </tr>\n",
       "    <tr>\n",
       "      <th>Gogo_Loves_English</th>\n",
       "      <td>NaN</td>\n",
       "      <td>1.0</td>\n",
       "      <td>NaN</td>\n",
       "      <td>NaN</td>\n",
       "    </tr>\n",
       "    <tr>\n",
       "      <th>It_s_a_wonderful_life(1946)</th>\n",
       "      <td>1.0</td>\n",
       "      <td>NaN</td>\n",
       "      <td>NaN</td>\n",
       "      <td>NaN</td>\n",
       "    </tr>\n",
       "    <tr>\n",
       "      <th>Its_a_wonderful_life(1946)</th>\n",
       "      <td>NaN</td>\n",
       "      <td>1.0</td>\n",
       "      <td>NaN</td>\n",
       "      <td>A2/A2+</td>\n",
       "    </tr>\n",
       "    <tr>\n",
       "      <th>Klaus(2019)</th>\n",
       "      <td>NaN</td>\n",
       "      <td>1.0</td>\n",
       "      <td>NaN</td>\n",
       "      <td>C1</td>\n",
       "    </tr>\n",
       "    <tr>\n",
       "      <th>Made_of_Honor(2008)</th>\n",
       "      <td>NaN</td>\n",
       "      <td>1.0</td>\n",
       "      <td>NaN</td>\n",
       "      <td>B2</td>\n",
       "    </tr>\n",
       "    <tr>\n",
       "      <th>Milada(2017)</th>\n",
       "      <td>NaN</td>\n",
       "      <td>1.0</td>\n",
       "      <td>NaN</td>\n",
       "      <td>B1</td>\n",
       "    </tr>\n",
       "    <tr>\n",
       "      <th>Mona_Lisa_Smile(2003)</th>\n",
       "      <td>NaN</td>\n",
       "      <td>1.0</td>\n",
       "      <td>NaN</td>\n",
       "      <td>B2</td>\n",
       "    </tr>\n",
       "    <tr>\n",
       "      <th>Oceans_Eleven(2001)</th>\n",
       "      <td>NaN</td>\n",
       "      <td>1.0</td>\n",
       "      <td>NaN</td>\n",
       "      <td>C1</td>\n",
       "    </tr>\n",
       "    <tr>\n",
       "      <th>Oceans_Twelve(2004)</th>\n",
       "      <td>NaN</td>\n",
       "      <td>1.0</td>\n",
       "      <td>NaN</td>\n",
       "      <td>C1</td>\n",
       "    </tr>\n",
       "    <tr>\n",
       "      <th>Pride_and_Prejudice</th>\n",
       "      <td>NaN</td>\n",
       "      <td>1.0</td>\n",
       "      <td>NaN</td>\n",
       "      <td>NaN</td>\n",
       "    </tr>\n",
       "    <tr>\n",
       "      <th>Ratatouille(2007)</th>\n",
       "      <td>NaN</td>\n",
       "      <td>1.0</td>\n",
       "      <td>NaN</td>\n",
       "      <td>B2</td>\n",
       "    </tr>\n",
       "    <tr>\n",
       "      <th>The_Devil_Wears_Prad</th>\n",
       "      <td>NaN</td>\n",
       "      <td>1.0</td>\n",
       "      <td>NaN</td>\n",
       "      <td>B2</td>\n",
       "    </tr>\n",
       "    <tr>\n",
       "      <th>The_Fundamentals_of_Caring(2016)</th>\n",
       "      <td>NaN</td>\n",
       "      <td>1.0</td>\n",
       "      <td>NaN</td>\n",
       "      <td>B1</td>\n",
       "    </tr>\n",
       "    <tr>\n",
       "      <th>The_Ghost_Writer</th>\n",
       "      <td>NaN</td>\n",
       "      <td>1.0</td>\n",
       "      <td>NaN</td>\n",
       "      <td>NaN</td>\n",
       "    </tr>\n",
       "    <tr>\n",
       "      <th>The_Intern(2015)</th>\n",
       "      <td>NaN</td>\n",
       "      <td>1.0</td>\n",
       "      <td>NaN</td>\n",
       "      <td>B2</td>\n",
       "    </tr>\n",
       "    <tr>\n",
       "      <th>The_Legend_of_Tarzan(2016)</th>\n",
       "      <td>NaN</td>\n",
       "      <td>1.0</td>\n",
       "      <td>NaN</td>\n",
       "      <td>C1</td>\n",
       "    </tr>\n",
       "    <tr>\n",
       "      <th>Westworld_scenes_of_Dr_Robert_Ford</th>\n",
       "      <td>NaN</td>\n",
       "      <td>1.0</td>\n",
       "      <td>NaN</td>\n",
       "      <td>NaN</td>\n",
       "    </tr>\n",
       "    <tr>\n",
       "      <th>While_You_Were_Sleeping(1995)</th>\n",
       "      <td>NaN</td>\n",
       "      <td>1.0</td>\n",
       "      <td>NaN</td>\n",
       "      <td>B1</td>\n",
       "    </tr>\n",
       "    <tr>\n",
       "      <th>Zootopia(2016)</th>\n",
       "      <td>NaN</td>\n",
       "      <td>1.0</td>\n",
       "      <td>NaN</td>\n",
       "      <td>B2</td>\n",
       "    </tr>\n",
       "  </tbody>\n",
       "</table>\n",
       "</div>"
      ],
      "text/plain": [
       "                                                    subtitles  el_subtitles  \\\n",
       "Movie                                                                         \n",
       "Banking_On_Bitcoin(2016)                                  NaN           1.0   \n",
       "Breaking_Bad_The_Movie(2017)                              NaN           1.0   \n",
       "Bren▒.Brown.The.Call.to.Courage.2019.720.NF.720...        NaN           1.0   \n",
       "Bridget_Joness_Baby                                       NaN           1.0   \n",
       "Cars(2006)                                                NaN           1.0   \n",
       "Casper                                                    NaN           1.0   \n",
       "Charlie_and_the_Chocolate_Factory                         NaN           1.0   \n",
       "Cinderella(1950)                                          NaN           1.0   \n",
       "Despicable_Me(2010)                                       NaN           1.0   \n",
       "Enola_Holmes(2020)                                        NaN           1.0   \n",
       "Entrapment                                                NaN           1.0   \n",
       "Ferdinand(2017)                                           NaN           1.0   \n",
       "Gogo_Loves_English                                        NaN           1.0   \n",
       "It_s_a_wonderful_life(1946)                               1.0           NaN   \n",
       "Its_a_wonderful_life(1946)                                NaN           1.0   \n",
       "Klaus(2019)                                               NaN           1.0   \n",
       "Made_of_Honor(2008)                                       NaN           1.0   \n",
       "Milada(2017)                                              NaN           1.0   \n",
       "Mona_Lisa_Smile(2003)                                     NaN           1.0   \n",
       "Oceans_Eleven(2001)                                       NaN           1.0   \n",
       "Oceans_Twelve(2004)                                       NaN           1.0   \n",
       "Pride_and_Prejudice                                       NaN           1.0   \n",
       "Ratatouille(2007)                                         NaN           1.0   \n",
       "The_Devil_Wears_Prad                                      NaN           1.0   \n",
       "The_Fundamentals_of_Caring(2016)                          NaN           1.0   \n",
       "The_Ghost_Writer                                          NaN           1.0   \n",
       "The_Intern(2015)                                          NaN           1.0   \n",
       "The_Legend_of_Tarzan(2016)                                NaN           1.0   \n",
       "Westworld_scenes_of_Dr_Robert_Ford                        NaN           1.0   \n",
       "While_You_Were_Sleeping(1995)                             NaN           1.0   \n",
       "Zootopia(2016)                                            NaN           1.0   \n",
       "\n",
       "                                                   subtitles_all movies_labels  \n",
       "Movie                                                                           \n",
       "Banking_On_Bitcoin(2016)                                     NaN            C1  \n",
       "Breaking_Bad_The_Movie(2017)                                 NaN           NaN  \n",
       "Bren▒.Brown.The.Call.to.Courage.2019.720.NF.720...           NaN           NaN  \n",
       "Bridget_Joness_Baby                                          NaN            C1  \n",
       "Cars(2006)                                                   NaN            B1  \n",
       "Casper                                                       NaN           NaN  \n",
       "Charlie_and_the_Chocolate_Factory                            NaN            B1  \n",
       "Cinderella(1950)                                             NaN            B1  \n",
       "Despicable_Me(2010)                                          NaN            B2  \n",
       "Enola_Holmes(2020)                                           NaN            B2  \n",
       "Entrapment                                                   NaN            B2  \n",
       "Ferdinand(2017)                                              NaN            B1  \n",
       "Gogo_Loves_English                                           NaN           NaN  \n",
       "It_s_a_wonderful_life(1946)                                  NaN           NaN  \n",
       "Its_a_wonderful_life(1946)                                   NaN        A2/A2+  \n",
       "Klaus(2019)                                                  NaN            C1  \n",
       "Made_of_Honor(2008)                                          NaN            B2  \n",
       "Milada(2017)                                                 NaN            B1  \n",
       "Mona_Lisa_Smile(2003)                                        NaN            B2  \n",
       "Oceans_Eleven(2001)                                          NaN            C1  \n",
       "Oceans_Twelve(2004)                                          NaN            C1  \n",
       "Pride_and_Prejudice                                          NaN           NaN  \n",
       "Ratatouille(2007)                                            NaN            B2  \n",
       "The_Devil_Wears_Prad                                         NaN            B2  \n",
       "The_Fundamentals_of_Caring(2016)                             NaN            B1  \n",
       "The_Ghost_Writer                                             NaN           NaN  \n",
       "The_Intern(2015)                                             NaN            B2  \n",
       "The_Legend_of_Tarzan(2016)                                   NaN            C1  \n",
       "Westworld_scenes_of_Dr_Robert_Ford                           NaN           NaN  \n",
       "While_You_Were_Sleeping(1995)                                NaN            B1  \n",
       "Zootopia(2016)                                               NaN            B2  "
      ]
     },
     "execution_count": 20,
     "metadata": {},
     "output_type": "execute_result"
    }
   ],
   "source": [
    "# различия в 'subtitles' и 'el_subtitles'\n",
    "subtitles_pivot.query('(subtitles.isna() & ~el_subtitles.isna()) | (~subtitles.isna() & el_subtitles.isna())')"
   ]
  },
  {
   "cell_type": "markdown",
   "id": "706479cc",
   "metadata": {},
   "source": [
    "Задублировано название фильма \"Its_a_wonderful_life(1946).srt\". Исправим в \"subtitles\":"
   ]
  },
  {
   "cell_type": "code",
   "execution_count": 21,
   "id": "523911ff",
   "metadata": {},
   "outputs": [],
   "source": [
    "subtitles.rename(index={'It_s_a_wonderful_life(1946)':'Its_a_wonderful_life(1946)'}, inplace=True)"
   ]
  },
  {
   "cell_type": "markdown",
   "id": "dd75ec3d",
   "metadata": {},
   "source": [
    "Переделаем сводную таблицу чтобы ещё раз проверить."
   ]
  },
  {
   "cell_type": "code",
   "execution_count": 22,
   "id": "fa9a1dd0",
   "metadata": {},
   "outputs": [],
   "source": [
    "# сводная со всеми упомянутыми в проекте фильмами (после исправления наименования одного фильма в 'subtitles')\n",
    "subtitles_pivot = subtitles.join(english_level_subtitles, how='outer')\\\n",
    "                           .join(subtitles_all,           how='outer')\\\n",
    "                           .join(movies_labels,           how='outer')"
   ]
  },
  {
   "cell_type": "code",
   "execution_count": 23,
   "id": "d932763a",
   "metadata": {},
   "outputs": [
    {
     "data": {
      "text/plain": [
       "29"
      ]
     },
     "execution_count": 23,
     "metadata": {},
     "output_type": "execute_result"
    }
   ],
   "source": [
    "# кол-во различных позиций в 'subtitles' и 'el_subtitles' (после исправления)\n",
    "subtitles_pivot.query('(subtitles.isna() & ~el_subtitles.isna()) | (~subtitles.isna() & el_subtitles.isna())').shape[0]"
   ]
  },
  {
   "cell_type": "code",
   "execution_count": null,
   "id": "1cfb3409",
   "metadata": {},
   "outputs": [],
   "source": []
  },
  {
   "cell_type": "code",
   "execution_count": null,
   "id": "68e1bd94",
   "metadata": {},
   "outputs": [],
   "source": []
  },
  {
   "cell_type": "code",
   "execution_count": null,
   "id": "333dd2a2",
   "metadata": {},
   "outputs": [],
   "source": []
  },
  {
   "cell_type": "code",
   "execution_count": 24,
   "id": "a80104c1",
   "metadata": {},
   "outputs": [
    {
     "data": {
      "text/plain": [
       "123"
      ]
     },
     "execution_count": 24,
     "metadata": {},
     "output_type": "execute_result"
    }
   ],
   "source": [
    "# число фильмов, которые присутствуют в базах subtitles_all и subtitles_all; их значения уровня английского идентичны\n",
    "subtitles_pivot.query('subtitles_all==movies_labels' ).shape[0]"
   ]
  },
  {
   "cell_type": "code",
   "execution_count": 25,
   "id": "1b7c5030",
   "metadata": {},
   "outputs": [
    {
     "data": {
      "text/plain": [
       "0"
      ]
     },
     "execution_count": 25,
     "metadata": {},
     "output_type": "execute_result"
    }
   ],
   "source": [
    "# число фильмов, которые присутствуют в базах subtitles_all и movies_labels; их значения уровня английского отличаются\n",
    "subtitles_pivot.query('subtitles_all!=movies_labels & ~subtitles_all.isna() & ~movies_labels.isna()').shape[0]"
   ]
  },
  {
   "cell_type": "code",
   "execution_count": 26,
   "id": "0b5a60f0",
   "metadata": {},
   "outputs": [
    {
     "data": {
      "text/plain": [
       "163"
      ]
     },
     "execution_count": 26,
     "metadata": {},
     "output_type": "execute_result"
    }
   ],
   "source": [
    "# число фильмов, которые присутствуют только в одной из баз subtitles_all или movies_labels\n",
    "subtitles_pivot.query('subtitles_all!=movies_labels').shape[0]"
   ]
  },
  {
   "cell_type": "code",
   "execution_count": null,
   "id": "aab8720c",
   "metadata": {},
   "outputs": [],
   "source": []
  },
  {
   "cell_type": "code",
   "execution_count": null,
   "id": "330dd038",
   "metadata": {},
   "outputs": [],
   "source": []
  },
  {
   "cell_type": "code",
   "execution_count": null,
   "id": "c389e3e7",
   "metadata": {},
   "outputs": [],
   "source": []
  },
  {
   "cell_type": "code",
   "execution_count": null,
   "id": "257ffd9e",
   "metadata": {},
   "outputs": [],
   "source": []
  },
  {
   "cell_type": "code",
   "execution_count": null,
   "id": "9c3826bc",
   "metadata": {},
   "outputs": [],
   "source": []
  },
  {
   "cell_type": "code",
   "execution_count": null,
   "id": "e09d0d1f",
   "metadata": {},
   "outputs": [],
   "source": []
  },
  {
   "cell_type": "code",
   "execution_count": null,
   "id": "4f522fbe",
   "metadata": {},
   "outputs": [],
   "source": []
  },
  {
   "cell_type": "code",
   "execution_count": null,
   "id": "72633344",
   "metadata": {},
   "outputs": [],
   "source": []
  },
  {
   "cell_type": "markdown",
   "id": "6f967932",
   "metadata": {},
   "source": [
    "Вывод:\n",
    "1. в 'el_subtitles' все фильмы из 'subtitles' (86 шт.), а также дополнительно ещё 29 уникальных. Всего в 'el_subtitles' - 115 шт. В работе необходимо использовать 'el_subtitles', как более обширную базу и включающую в себя маленькую базу;\n",
    "2. ..."
   ]
  },
  {
   "cell_type": "code",
   "execution_count": null,
   "id": "73b17f26",
   "metadata": {},
   "outputs": [],
   "source": []
  },
  {
   "cell_type": "code",
   "execution_count": null,
   "id": "41a22298",
   "metadata": {},
   "outputs": [],
   "source": []
  },
  {
   "cell_type": "code",
   "execution_count": null,
   "id": "d4161cf3",
   "metadata": {},
   "outputs": [],
   "source": []
  },
  {
   "cell_type": "code",
   "execution_count": null,
   "id": "dcfb7877",
   "metadata": {},
   "outputs": [],
   "source": []
  },
  {
   "cell_type": "code",
   "execution_count": null,
   "id": "799a1b3c",
   "metadata": {},
   "outputs": [],
   "source": []
  },
  {
   "cell_type": "code",
   "execution_count": null,
   "id": "1d8085fa",
   "metadata": {},
   "outputs": [],
   "source": []
  },
  {
   "cell_type": "code",
   "execution_count": null,
   "id": "2ba460d1",
   "metadata": {},
   "outputs": [],
   "source": []
  },
  {
   "cell_type": "code",
   "execution_count": null,
   "id": "8eaa2a61",
   "metadata": {},
   "outputs": [],
   "source": []
  }
 ],
 "metadata": {
  "kernelspec": {
   "display_name": "Python 3 (ipykernel)",
   "language": "python",
   "name": "python3"
  },
  "language_info": {
   "codemirror_mode": {
    "name": "ipython",
    "version": 3
   },
   "file_extension": ".py",
   "mimetype": "text/x-python",
   "name": "python",
   "nbconvert_exporter": "python",
   "pygments_lexer": "ipython3",
   "version": "3.9.13"
  },
  "toc": {
   "base_numbering": 1,
   "nav_menu": {},
   "number_sections": true,
   "sideBar": true,
   "skip_h1_title": true,
   "title_cell": "Table of Contents",
   "title_sidebar": "Contents",
   "toc_cell": false,
   "toc_position": {},
   "toc_section_display": true,
   "toc_window_display": true
  }
 },
 "nbformat": 4,
 "nbformat_minor": 5
}
